{
 "cells": [
  {
   "cell_type": "markdown",
   "id": "ead3503e",
   "metadata": {},
   "source": [
    "# Pneumonia Detection TensorFlow and Keras \n",
    "\n",
    "## 1.\tImage Classification\n",
    "\n",
    "Using Convolutional Neural Network. We will build a model to predict whether a person has ‘pneumonia’ based on X-Rays images. \n",
    "The model is created inside TensorFlow using a package called KERAS. In simple word what CNN does is, it extracts the feature of image and convert it into lower dimension without losing its characteristics.\n",
    "\n",
    "## 2.\tThe Data \n",
    "\n",
    "I am using a dataset collected through Kaggle. It is free and you can find it here:\n",
    "\n",
    "                            https://www.kaggle.com/paultimothymooney/chest-xray-pneumonia\n",
    "\n",
    "* The data has about 6000 X-Rays images.\n",
    "* It is divided into 3 files: TRAIN, TEST and VALIDATION\n",
    "* In each file I was able to find 2 classes: ‘NORMAL’ and ‘PNEUMONIA’\n",
    "\n",
    "## 3.\tEnvironment and Tools\n",
    "\n",
    "I am working with Python programming language inside Jupyter Notebook. inside this project I worked with the following tools:\n",
    "\n",
    "* TensorFlow \n",
    "* Keras\n",
    "* Numpy\n",
    "* Matlibplot\n",
    "* Lime\n",
    "\n",
    "## 4.\tResults \n",
    "\n",
    "#### We achieved a final prediction accuracy of .90 for our test data, indicating predictions of 90% correct on average. \n"
   ]
  },
  {
   "cell_type": "code",
   "execution_count": null,
   "id": "4959d5a2",
   "metadata": {},
   "outputs": [],
   "source": []
  }
 ],
 "metadata": {
  "kernelspec": {
   "display_name": "Python_tf",
   "language": "python",
   "name": "tensor_flow"
  },
  "language_info": {
   "codemirror_mode": {
    "name": "ipython",
    "version": 3
   },
   "file_extension": ".py",
   "mimetype": "text/x-python",
   "name": "python",
   "nbconvert_exporter": "python",
   "pygments_lexer": "ipython3",
   "version": "3.7.11"
  }
 },
 "nbformat": 4,
 "nbformat_minor": 5
}
